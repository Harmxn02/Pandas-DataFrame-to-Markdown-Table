{
 "cells": [
  {
   "cell_type": "markdown",
   "metadata": {},
   "source": [
    "## 1. Libraries and DataFrames"
   ]
  },
  {
   "cell_type": "code",
   "execution_count": 11,
   "metadata": {},
   "outputs": [],
   "source": [
    "import pandas as pd\n",
    "\n",
    "df = pd.read_csv('./data/data.csv')\n",
    "df2 = pd.read_csv('./data/data2.csv')"
   ]
  },
  {
   "cell_type": "markdown",
   "metadata": {},
   "source": [
    "## 2. Function definitions"
   ]
  },
  {
   "cell_type": "markdown",
   "metadata": {},
   "source": [
    "### Convert Pandas DataFrame to Markdown syntax"
   ]
  },
  {
   "cell_type": "code",
   "execution_count": 12,
   "metadata": {},
   "outputs": [],
   "source": [
    "def dataframe_to_markdown(df):\n",
    "    \"\"\"\n",
    "    Convert a Pandas DataFrame to Markdown table format.\n",
    "    \n",
    "    Parameters:\n",
    "        df (DataFrame): The DataFrame to be converted.\n",
    "        \n",
    "    Returns:\n",
    "        str: The Markdown representation of the DataFrame, which you can copy paste into a Markdown file\n",
    "    \"\"\"\n",
    "\n",
    "    # Setting up title and first subtitle, following MD001 and MD022\n",
    "    markdown = \"# Title\\n\\n\"\n",
    "    markdown += \"## Table\\n\\n\"\n",
    "\n",
    "    # Converting columns to string and joining them with a pipe\n",
    "    markdown += \"| \" + \" | \".join(df.columns) + \" |\\n\"\n",
    "\n",
    "    # Adding a separator row\n",
    "    markdown += \"| \" + \" | \".join([\"---\"] * len(df.columns)) + \" |\\n\"\n",
    "    \n",
    "    # Iterating over the rows, converting them to strings and adding them to the Markdown\n",
    "    for index, row in df.iterrows():\n",
    "        markdown += \"| \" + \" | \".join(str(value) for value in row) + \" |\\n\"\n",
    "    \n",
    "    \n",
    "    return markdown\n"
   ]
  },
  {
   "cell_type": "markdown",
   "metadata": {},
   "source": [
    "### Write markdown syntax to markdown file"
   ]
  },
  {
   "cell_type": "code",
   "execution_count": 13,
   "metadata": {},
   "outputs": [],
   "source": [
    "def write_dataframe_to_markdown_file(df, filename):\n",
    "    \"\"\"\n",
    "    Write the Markdown representation of a Pandas DataFrame to a Markdown file.\n",
    "    \n",
    "    Parameters:\n",
    "        df (DataFrame): The DataFrame to be written.\n",
    "        filename (str): The name of the Markdown file.\n",
    "    \"\"\"\n",
    "    markdown_table = dataframe_to_markdown(df)\n",
    "    with open(filename, 'w') as f:\n",
    "        f.write(markdown_table)"
   ]
  },
  {
   "cell_type": "markdown",
   "metadata": {},
   "source": [
    "## 3. Example usages"
   ]
  },
  {
   "cell_type": "markdown",
   "metadata": {},
   "source": [
    "### with very small DataFrame"
   ]
  },
  {
   "cell_type": "code",
   "execution_count": 14,
   "metadata": {},
   "outputs": [],
   "source": [
    "write_dataframe_to_markdown_file(df, './converted/small.md')"
   ]
  },
  {
   "cell_type": "markdown",
   "metadata": {},
   "source": [
    "### with DataFrame of 64 rows"
   ]
  },
  {
   "cell_type": "code",
   "execution_count": 15,
   "metadata": {},
   "outputs": [],
   "source": [
    "write_dataframe_to_markdown_file(df2, './converted/medium.md')"
   ]
  }
 ],
 "metadata": {
  "kernelspec": {
   "display_name": "Python 3",
   "language": "python",
   "name": "python3"
  },
  "language_info": {
   "codemirror_mode": {
    "name": "ipython",
    "version": 3
   },
   "file_extension": ".py",
   "mimetype": "text/x-python",
   "name": "python",
   "nbconvert_exporter": "python",
   "pygments_lexer": "ipython3",
   "version": "3.9.9"
  }
 },
 "nbformat": 4,
 "nbformat_minor": 2
}
